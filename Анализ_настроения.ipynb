{
  "nbformat": 4,
  "nbformat_minor": 0,
  "metadata": {
    "colab": {
      "provenance": [],
      "authorship_tag": "ABX9TyP094L+vCX+ZCQQsedNEati",
      "include_colab_link": true
    },
    "kernelspec": {
      "name": "python3",
      "display_name": "Python 3"
    },
    "language_info": {
      "name": "python"
    },
    "widgets": {
      "application/vnd.jupyter.widget-state+json": {
        "b69dc154144c47c6957d47b899d45b0d": {
          "model_module": "@jupyter-widgets/controls",
          "model_name": "TextareaModel",
          "model_module_version": "1.5.0",
          "state": {
            "_dom_classes": [],
            "_model_module": "@jupyter-widgets/controls",
            "_model_module_version": "1.5.0",
            "_model_name": "TextareaModel",
            "_view_count": null,
            "_view_module": "@jupyter-widgets/controls",
            "_view_module_version": "1.5.0",
            "_view_name": "TextareaView",
            "continuous_update": true,
            "description": "Запрос:",
            "description_tooltip": null,
            "disabled": false,
            "layout": "IPY_MODEL_42c1fadf89ee479397e2c9e500452033",
            "placeholder": "Введите ваш запрос здесь...",
            "rows": null,
            "style": "IPY_MODEL_51f54f5e8cf648a5848962df94475999",
            "value": ""
          }
        },
        "42c1fadf89ee479397e2c9e500452033": {
          "model_module": "@jupyter-widgets/base",
          "model_name": "LayoutModel",
          "model_module_version": "1.2.0",
          "state": {
            "_model_module": "@jupyter-widgets/base",
            "_model_module_version": "1.2.0",
            "_model_name": "LayoutModel",
            "_view_count": null,
            "_view_module": "@jupyter-widgets/base",
            "_view_module_version": "1.2.0",
            "_view_name": "LayoutView",
            "align_content": null,
            "align_items": null,
            "align_self": null,
            "border": null,
            "bottom": null,
            "display": null,
            "flex": null,
            "flex_flow": null,
            "grid_area": null,
            "grid_auto_columns": null,
            "grid_auto_flow": null,
            "grid_auto_rows": null,
            "grid_column": null,
            "grid_gap": null,
            "grid_row": null,
            "grid_template_areas": null,
            "grid_template_columns": null,
            "grid_template_rows": null,
            "height": "80px",
            "justify_content": null,
            "justify_items": null,
            "left": null,
            "margin": null,
            "max_height": null,
            "max_width": null,
            "min_height": null,
            "min_width": null,
            "object_fit": null,
            "object_position": null,
            "order": null,
            "overflow": null,
            "overflow_x": null,
            "overflow_y": null,
            "padding": null,
            "right": null,
            "top": null,
            "visibility": null,
            "width": "100%"
          }
        },
        "51f54f5e8cf648a5848962df94475999": {
          "model_module": "@jupyter-widgets/controls",
          "model_name": "DescriptionStyleModel",
          "model_module_version": "1.5.0",
          "state": {
            "_model_module": "@jupyter-widgets/controls",
            "_model_module_version": "1.5.0",
            "_model_name": "DescriptionStyleModel",
            "_view_count": null,
            "_view_module": "@jupyter-widgets/base",
            "_view_module_version": "1.2.0",
            "_view_name": "StyleView",
            "description_width": ""
          }
        },
        "0818f8ad19af460db4854e7f0d8d6353": {
          "model_module": "@jupyter-widgets/controls",
          "model_name": "ButtonModel",
          "model_module_version": "1.5.0",
          "state": {
            "_dom_classes": [],
            "_model_module": "@jupyter-widgets/controls",
            "_model_module_version": "1.5.0",
            "_model_name": "ButtonModel",
            "_view_count": null,
            "_view_module": "@jupyter-widgets/controls",
            "_view_module_version": "1.5.0",
            "_view_name": "ButtonView",
            "button_style": "success",
            "description": "Получить ответ",
            "disabled": false,
            "icon": "",
            "layout": "IPY_MODEL_bae271b235c342aaa67795dcbad46414",
            "style": "IPY_MODEL_4e733c622ffd4081b0b0dd0fb55a1b91",
            "tooltip": ""
          }
        },
        "bae271b235c342aaa67795dcbad46414": {
          "model_module": "@jupyter-widgets/base",
          "model_name": "LayoutModel",
          "model_module_version": "1.2.0",
          "state": {
            "_model_module": "@jupyter-widgets/base",
            "_model_module_version": "1.2.0",
            "_model_name": "LayoutModel",
            "_view_count": null,
            "_view_module": "@jupyter-widgets/base",
            "_view_module_version": "1.2.0",
            "_view_name": "LayoutView",
            "align_content": null,
            "align_items": null,
            "align_self": null,
            "border": null,
            "bottom": null,
            "display": null,
            "flex": null,
            "flex_flow": null,
            "grid_area": null,
            "grid_auto_columns": null,
            "grid_auto_flow": null,
            "grid_auto_rows": null,
            "grid_column": null,
            "grid_gap": null,
            "grid_row": null,
            "grid_template_areas": null,
            "grid_template_columns": null,
            "grid_template_rows": null,
            "height": null,
            "justify_content": null,
            "justify_items": null,
            "left": null,
            "margin": null,
            "max_height": null,
            "max_width": null,
            "min_height": null,
            "min_width": null,
            "object_fit": null,
            "object_position": null,
            "order": null,
            "overflow": null,
            "overflow_x": null,
            "overflow_y": null,
            "padding": null,
            "right": null,
            "top": null,
            "visibility": null,
            "width": null
          }
        },
        "4e733c622ffd4081b0b0dd0fb55a1b91": {
          "model_module": "@jupyter-widgets/controls",
          "model_name": "ButtonStyleModel",
          "model_module_version": "1.5.0",
          "state": {
            "_model_module": "@jupyter-widgets/controls",
            "_model_module_version": "1.5.0",
            "_model_name": "ButtonStyleModel",
            "_view_count": null,
            "_view_module": "@jupyter-widgets/base",
            "_view_module_version": "1.2.0",
            "_view_name": "StyleView",
            "button_color": null,
            "font_weight": ""
          }
        },
        "b844c489713846afb2421a5467f3dba7": {
          "model_module": "@jupyter-widgets/output",
          "model_name": "OutputModel",
          "model_module_version": "1.0.0",
          "state": {
            "_dom_classes": [],
            "_model_module": "@jupyter-widgets/output",
            "_model_module_version": "1.0.0",
            "_model_name": "OutputModel",
            "_view_count": null,
            "_view_module": "@jupyter-widgets/output",
            "_view_module_version": "1.0.0",
            "_view_name": "OutputView",
            "layout": "IPY_MODEL_7bebae149c3b4a338acce6d1ade2bb32",
            "msg_id": "",
            "outputs": []
          }
        },
        "7bebae149c3b4a338acce6d1ade2bb32": {
          "model_module": "@jupyter-widgets/base",
          "model_name": "LayoutModel",
          "model_module_version": "1.2.0",
          "state": {
            "_model_module": "@jupyter-widgets/base",
            "_model_module_version": "1.2.0",
            "_model_name": "LayoutModel",
            "_view_count": null,
            "_view_module": "@jupyter-widgets/base",
            "_view_module_version": "1.2.0",
            "_view_name": "LayoutView",
            "align_content": null,
            "align_items": null,
            "align_self": null,
            "border": null,
            "bottom": null,
            "display": null,
            "flex": null,
            "flex_flow": null,
            "grid_area": null,
            "grid_auto_columns": null,
            "grid_auto_flow": null,
            "grid_auto_rows": null,
            "grid_column": null,
            "grid_gap": null,
            "grid_row": null,
            "grid_template_areas": null,
            "grid_template_columns": null,
            "grid_template_rows": null,
            "height": null,
            "justify_content": null,
            "justify_items": null,
            "left": null,
            "margin": null,
            "max_height": null,
            "max_width": null,
            "min_height": null,
            "min_width": null,
            "object_fit": null,
            "object_position": null,
            "order": null,
            "overflow": null,
            "overflow_x": null,
            "overflow_y": null,
            "padding": null,
            "right": null,
            "top": null,
            "visibility": null,
            "width": null
          }
        }
      }
    }
  },
  "cells": [
    {
      "cell_type": "markdown",
      "metadata": {
        "id": "view-in-github",
        "colab_type": "text"
      },
      "source": [
        "<a href=\"https://colab.research.google.com/github/KMaxSikI/Batman-and-Joker/blob/main/%D0%90%D0%BD%D0%B0%D0%BB%D0%B8%D0%B7_%D0%BD%D0%B0%D1%81%D1%82%D1%80%D0%BE%D0%B5%D0%BD%D0%B8%D1%8F.ipynb\" target=\"_parent\"><img src=\"https://colab.research.google.com/assets/colab-badge.svg\" alt=\"Open In Colab\"/></a>"
      ]
    },
    {
      "cell_type": "markdown",
      "source": [
        "1. Установить необходимые библиотеки для работы"
      ],
      "metadata": {
        "id": "CJ_BxwetXLni"
      }
    },
    {
      "cell_type": "code",
      "source": [
        "#@title Библиотеки для установки\n",
        "!pip install transformers\n",
        "!pip install ipywidgets"
      ],
      "metadata": {
        "cellView": "form",
        "id": "FAC-vwgpXJnU"
      },
      "execution_count": null,
      "outputs": []
    },
    {
      "cell_type": "code",
      "source": [
        "#@title Batman & Jocker\n",
        "import random\n",
        "from transformers import pipeline\n",
        "import ipywidgets as widgets\n",
        "from IPython.display import display, clear_output\n",
        "\n",
        "# Инициализация модели для анализа настроений\n",
        "# Используется модель DistilBERT, обученная на анализе настроений\n",
        "sentiment_model = pipeline('sentiment-analysis', model='distilbert-base-uncased-finetuned-sst-2-english')\n",
        "\n",
        "# Подготовленные шаблонные ответы для Бэтмена\n",
        "batman_responses = {\n",
        "    \"positive\": [\n",
        "        \"Как Бэтмен, я всегда поддерживаю надежду и веру в лучшее.\",\n",
        "        \"Даже в светлые дни важно помнить о бдительности.\",\n",
        "        \"Каждый новый день приносит новые возможности для героя.\",\n",
        "    ]\n",
        "}\n",
        "\n",
        "# Подготовленные шаблонные ответы для Джокера\n",
        "joker_responses = {\n",
        "    \"negative\": [\n",
        "        \"Джокер любит хаос, и в этом его сила!\",\n",
        "        \"Даже в хаосе есть свой порядок, не правда ли?\",\n",
        "        \"Почему бы не насладиться немного хаосом? Ха-ха!\"\n",
        "    ]\n",
        "}\n",
        "\n",
        "# Ключевые слова для определения настроения\n",
        "positive_keywords = [\n",
        "    'рад', 'доволен', 'радость', 'счастлив', 'замечательный',\n",
        "    'хороший', 'повышение', 'новое', 'позитивный', 'улыбка',\n",
        "    'великолепный', 'прекрасный', 'вдохновляющий', 'отличный',\n",
        "    'успех', 'любовь', 'удовольствие', 'благополучие', 'удивительный'\n",
        "]\n",
        "negative_keywords = [\n",
        "    'устал', 'неудач', 'бессмысленным', 'ужасная', 'надоедать',\n",
        "    'сложно', 'всё', 'не так', 'печаль', 'тревога',\n",
        "    'страх', 'грусть', 'разочарование', 'гнев', 'потеря',\n",
        "    'депрессия', 'боль', 'ненависть', 'отчаяние', 'разочарованный'\n",
        "]\n",
        "\n",
        "# Функция для определения стиля и генерации ответа\n",
        "def generate_response(text):\n",
        "    # Анализ настроений с использованием ключевых слов\n",
        "    # Проверяем, содержит ли текст позитивные ключевые слова\n",
        "    is_positive = any(word in text.lower() for word in positive_keywords)\n",
        "    # Проверяем, содержит ли текст  негативные ключевые слова\n",
        "    is_negative = any(word in text.lower() for word in negative_keywords)\n",
        "\n",
        "    # Выбор стиля на основе ключевых слов\n",
        "    # Если текст содержит позитивные слова и не содержит негативных, выбираем Бэтмена\n",
        "    if is_positive and not is_negative:\n",
        "        style = 'Бэтмен'\n",
        "        response = random.choice(batman_responses['positive'])\n",
        "    # Если текст содержит негативные слова и не содержит позитивных, выбираем Джокера\n",
        "    elif is_negative and not is_positive:\n",
        "        style = 'Джокер'\n",
        "        response = random.choice(joker_responses['negative'])\n",
        "    else:\n",
        "        # Если ключевые слова не дали точного результата, используем модель анализа настроений\n",
        "        result = sentiment_model(text)\n",
        "        label = result[0]['label']\n",
        "        # Если модель считает текст позитивным, выбираем Бэтмена\n",
        "        if label == 'POSITIVE':\n",
        "            style = 'Бэтмен'\n",
        "            response = random.choice(batman_responses['positive'])\n",
        "        # Если модель считает текст негативным, выбираем Джокера\n",
        "        else:\n",
        "            style = 'Джокер'\n",
        "            response = random.choice(joker_responses['negative'])\n",
        "\n",
        "    return style, response\n",
        "\n",
        "# Создание виджетов для ввода текста и отображения результатов\n",
        "text_input = widgets.Textarea(\n",
        "    placeholder='Введите ваш запрос здесь...', # Подсказка в текстовом поле\n",
        "    description='Запрос:', # Подпись текстового поля\n",
        "    layout=widgets.Layout(width='100%', height='80px') # Размер текстового поля\n",
        ")\n",
        "\n",
        "output_area = widgets.Output() # Виджет для отображения ответов\n",
        "\n",
        "button = widgets.Button(description=\"Получить ответ\", button_style='success') # Кнопка для отправки запроса\n",
        "\n",
        "# Список для хранения предыдущих ответов\n",
        "responses = []\n",
        "\n",
        "# Функция обработки нажатия кнопки\n",
        "def on_button_clicked(b):\n",
        "    query = text_input.value # Получаем текст из текстового поля\n",
        "    style, response = generate_response(query) # Генерируем ответ на основе введенного текста\n",
        "    responses.append(f\"Запрос: {query}\\nОтвет: {response} ({style})\\n\") # Добавляем ответ в список\n",
        "\n",
        "    with output_area:\n",
        "        clear_output() # Очищаем предыдущий вывод\n",
        "        for res in responses:\n",
        "            print(res) # Печатаем все ответы из списка\n",
        "\n",
        "button.on_click(on_button_clicked) # Связываем нажатие кнопки с функцией обработки\n",
        "\n",
        "# Отображение виджетов\n",
        "display(text_input, button, output_area)\n",
        "\n"
      ],
      "metadata": {
        "colab": {
          "base_uri": "https://localhost:8080/",
          "height": 153,
          "referenced_widgets": [
            "b69dc154144c47c6957d47b899d45b0d",
            "42c1fadf89ee479397e2c9e500452033",
            "51f54f5e8cf648a5848962df94475999",
            "0818f8ad19af460db4854e7f0d8d6353",
            "bae271b235c342aaa67795dcbad46414",
            "4e733c622ffd4081b0b0dd0fb55a1b91",
            "b844c489713846afb2421a5467f3dba7",
            "7bebae149c3b4a338acce6d1ade2bb32"
          ]
        },
        "cellView": "form",
        "id": "5mXqk5JZPfCZ",
        "outputId": "5718e63e-bcd3-4485-8b78-cd64f4d43d1f"
      },
      "execution_count": 23,
      "outputs": [
        {
          "output_type": "display_data",
          "data": {
            "text/plain": [
              "Textarea(value='', description='Запрос:', layout=Layout(height='80px', width='100%'), placeholder='Введите ваш…"
            ],
            "application/vnd.jupyter.widget-view+json": {
              "version_major": 2,
              "version_minor": 0,
              "model_id": "b69dc154144c47c6957d47b899d45b0d"
            }
          },
          "metadata": {}
        },
        {
          "output_type": "display_data",
          "data": {
            "text/plain": [
              "Button(button_style='success', description='Получить ответ', style=ButtonStyle())"
            ],
            "application/vnd.jupyter.widget-view+json": {
              "version_major": 2,
              "version_minor": 0,
              "model_id": "0818f8ad19af460db4854e7f0d8d6353"
            }
          },
          "metadata": {}
        },
        {
          "output_type": "display_data",
          "data": {
            "text/plain": [
              "Output()"
            ],
            "application/vnd.jupyter.widget-view+json": {
              "version_major": 2,
              "version_minor": 0,
              "model_id": "b844c489713846afb2421a5467f3dba7"
            }
          },
          "metadata": {}
        }
      ]
    }
  ]
}